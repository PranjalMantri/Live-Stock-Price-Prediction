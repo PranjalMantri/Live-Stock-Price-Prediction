{
  "cells": [
    {
      "cell_type": "markdown",
      "source": [
        "Stock price prediction using LSTM"
      ],
      "metadata": {
        "id": "GN2P8Tf2gF8E"
      }
    },
    {
      "cell_type": "code",
      "source": [
        "from matplotlib import pyplot as plt\n",
        "import pandas as pd\n",
        "import numpy as np\n",
        "import yfinance as yf\n",
        "from sklearn.preprocessing import MinMaxScaler\n",
        "from tensorflow import keras"
      ],
      "metadata": {
        "id": "hVaZYvSbgL9U"
      },
      "execution_count": 22,
      "outputs": []
    },
    {
      "cell_type": "markdown",
      "source": [
        "Get stock name and prediction duration from user input"
      ],
      "metadata": {
        "id": "O8qyswOYe7LR"
      }
    },
    {
      "cell_type": "code",
      "source": [
        "stock = input(\"Enter stock name to predict prices: \")\n",
        "duration = int(input(\"Enter number of days to predict stock prices: \"))"
      ],
      "metadata": {
        "colab": {
          "base_uri": "https://localhost:8080/"
        },
        "id": "y9APXY84cfOd",
        "outputId": "3d300218-2511-4b44-d0b2-f20f6459de48"
      },
      "execution_count": 23,
      "outputs": [
        {
          "name": "stdout",
          "output_type": "stream",
          "text": [
            "Enter stock name to predict prices: AAPL\n",
            "Enter number of days to predict stock prices: 10\n"
          ]
        }
      ]
    },
    {
      "cell_type": "markdown",
      "source": [
        "Set sequence length for input data"
      ],
      "metadata": {
        "id": "uJiXYL3pe-qm"
      }
    },
    {
      "cell_type": "code",
      "source": [
        "sequence_length = 100"
      ],
      "metadata": {
        "id": "4U2YWQ06coUu"
      },
      "execution_count": 24,
      "outputs": []
    },
    {
      "cell_type": "markdown",
      "source": [
        "Download stock data using yfinance"
      ],
      "metadata": {
        "id": "A5RcsuUAfDr4"
      }
    },
    {
      "cell_type": "code",
      "source": [
        "df = yf.download(stock, start=\"2010-01-01\", end=None)\n",
        "df = df.reset_index()"
      ],
      "metadata": {
        "colab": {
          "base_uri": "https://localhost:8080/"
        },
        "id": "FwZ3rurTcrNC",
        "outputId": "62fb07c6-9307-4f64-ba7d-12880db2b004"
      },
      "execution_count": 25,
      "outputs": [
        {
          "output_type": "stream",
          "name": "stdout",
          "text": [
            "\r[*********************100%%**********************]  1 of 1 completed\n"
          ]
        }
      ]
    },
    {
      "cell_type": "markdown",
      "source": [
        "Split data into training and testing sets"
      ],
      "metadata": {
        "id": "ghElme84fJDv"
      }
    },
    {
      "cell_type": "code",
      "source": [
        "data_training = pd.DataFrame(df[\"Close\"][:int(len(df) * 0.70)])\n",
        "data_testing = pd.DataFrame(df[\"Close\"][int(len(df) * 0.70): int(len(df))])"
      ],
      "metadata": {
        "id": "RYmVxILFctqu"
      },
      "execution_count": 26,
      "outputs": []
    },
    {
      "cell_type": "markdown",
      "source": [
        "Initialize MinMaxScaler to scale data"
      ],
      "metadata": {
        "id": "GCH34MJqfKtT"
      }
    },
    {
      "cell_type": "code",
      "source": [
        "scaler = MinMaxScaler()\n",
        "data_training_array = scaler.fit_transform(data_training.values.reshape(-1, 1))"
      ],
      "metadata": {
        "id": "32u4Zei5cwOy"
      },
      "execution_count": 27,
      "outputs": []
    },
    {
      "cell_type": "markdown",
      "source": [
        "Prepare training data and labels"
      ],
      "metadata": {
        "id": "i5ZzBfAifO71"
      }
    },
    {
      "cell_type": "code",
      "source": [
        "x_train = []\n",
        "y_train = []\n",
        "\n",
        "for i in range(data_training_array.shape[0] - 100):\n",
        "    x_train.append(data_training_array[i: 100 + i, 0])\n",
        "    y_train.append(data_training_array[100 + i, 0])\n",
        "\n",
        "x_train = np.array(x_train)\n",
        "y_train = np.array(y_train)"
      ],
      "metadata": {
        "id": "SCz1AFcLczEv"
      },
      "execution_count": 28,
      "outputs": []
    },
    {
      "cell_type": "markdown",
      "source": [
        "Create the LSTM model"
      ],
      "metadata": {
        "id": "QZOGAF7afRzn"
      }
    },
    {
      "cell_type": "code",
      "source": [
        "model = keras.Sequential([\n",
        "    keras.layers.LSTM(50, activation='relu', return_sequences=True, input_shape=(x_train.shape[1], 1)),\n",
        "    keras.layers.Dropout(0.2),\n",
        "    keras.layers.LSTM(60, activation='relu', return_sequences=True),\n",
        "    keras.layers.Dropout(0.3),\n",
        "    keras.layers.LSTM(80, activation='relu'),\n",
        "    keras.layers.Dropout(0.4),\n",
        "    keras.layers.Dense(1)]\n",
        ")"
      ],
      "metadata": {
        "id": "HlLI8vFuc1aC"
      },
      "execution_count": 29,
      "outputs": []
    },
    {
      "cell_type": "markdown",
      "source": [
        "Compile and train the model"
      ],
      "metadata": {
        "id": "rzG70XEofUpE"
      }
    },
    {
      "cell_type": "code",
      "source": [
        "model.compile(optimizer=\"adam\", loss=\"mean_squared_error\")\n",
        "model.fit(x_train, y_train, epochs=30, batch_size=30)"
      ],
      "metadata": {
        "colab": {
          "base_uri": "https://localhost:8080/"
        },
        "id": "fE5WnEgXc3AN",
        "outputId": "406452d4-f317-4385-98c1-4d234d2d92ef"
      },
      "execution_count": 30,
      "outputs": [
        {
          "output_type": "stream",
          "name": "stdout",
          "text": [
            "Epoch 1/30\n",
            "77/77 [==============================] - 16s 157ms/step - loss: 0.0341\n",
            "Epoch 2/30\n",
            "77/77 [==============================] - 12s 157ms/step - loss: 0.0069\n",
            "Epoch 3/30\n",
            "77/77 [==============================] - 12s 157ms/step - loss: 0.0062\n",
            "Epoch 4/30\n",
            "77/77 [==============================] - 12s 157ms/step - loss: 0.0052\n",
            "Epoch 5/30\n",
            "77/77 [==============================] - 12s 157ms/step - loss: 0.0053\n",
            "Epoch 6/30\n",
            "77/77 [==============================] - 12s 157ms/step - loss: 0.0047\n",
            "Epoch 7/30\n",
            "77/77 [==============================] - 12s 158ms/step - loss: 0.0046\n",
            "Epoch 8/30\n",
            "77/77 [==============================] - 12s 154ms/step - loss: 0.0049\n",
            "Epoch 9/30\n",
            "77/77 [==============================] - 12s 151ms/step - loss: 0.0042\n",
            "Epoch 10/30\n",
            "77/77 [==============================] - 12s 151ms/step - loss: 0.0035\n",
            "Epoch 11/30\n",
            "77/77 [==============================] - 12s 156ms/step - loss: 0.0039\n",
            "Epoch 12/30\n",
            "77/77 [==============================] - 12s 157ms/step - loss: 0.0036\n",
            "Epoch 13/30\n",
            "77/77 [==============================] - 12s 158ms/step - loss: 0.0034\n",
            "Epoch 14/30\n",
            "77/77 [==============================] - 12s 158ms/step - loss: 0.0032\n",
            "Epoch 15/30\n",
            "77/77 [==============================] - 12s 158ms/step - loss: 0.0035\n",
            "Epoch 16/30\n",
            "77/77 [==============================] - 12s 158ms/step - loss: 0.0032\n",
            "Epoch 17/30\n",
            "77/77 [==============================] - 12s 157ms/step - loss: 0.0028\n",
            "Epoch 18/30\n",
            "77/77 [==============================] - 12s 159ms/step - loss: 0.0027\n",
            "Epoch 19/30\n",
            "77/77 [==============================] - 12s 157ms/step - loss: 0.0027\n",
            "Epoch 20/30\n",
            "77/77 [==============================] - 12s 158ms/step - loss: 0.0031\n",
            "Epoch 21/30\n",
            "77/77 [==============================] - 12s 156ms/step - loss: 0.0025\n",
            "Epoch 22/30\n",
            "77/77 [==============================] - 12s 157ms/step - loss: 0.0024\n",
            "Epoch 23/30\n",
            "77/77 [==============================] - 12s 158ms/step - loss: 0.0024\n",
            "Epoch 24/30\n",
            "77/77 [==============================] - 12s 158ms/step - loss: 0.0024\n",
            "Epoch 25/30\n",
            "77/77 [==============================] - 12s 158ms/step - loss: 0.0025\n",
            "Epoch 26/30\n",
            "77/77 [==============================] - 12s 158ms/step - loss: 0.0024\n",
            "Epoch 27/30\n",
            "77/77 [==============================] - 12s 154ms/step - loss: 0.0020\n",
            "Epoch 28/30\n",
            "77/77 [==============================] - 12s 153ms/step - loss: 0.0024\n",
            "Epoch 29/30\n",
            "77/77 [==============================] - 12s 151ms/step - loss: 0.0023\n",
            "Epoch 30/30\n",
            "77/77 [==============================] - 12s 155ms/step - loss: 0.0021\n"
          ]
        },
        {
          "output_type": "execute_result",
          "data": {
            "text/plain": [
              "<keras.callbacks.History at 0x7df43ed29450>"
            ]
          },
          "metadata": {},
          "execution_count": 30
        }
      ]
    },
    {
      "cell_type": "markdown",
      "source": [
        "Prepare data for predicting future values"
      ],
      "metadata": {
        "id": "QGM19RI9fXss"
      }
    },
    {
      "cell_type": "code",
      "source": [
        "past_days = data_training.tail(100)\n",
        "new_df = past_days._append(data_testing, ignore_index=True)\n",
        "input_data = scaler.fit_transform(new_df)"
      ],
      "metadata": {
        "id": "mz5fK86hdu8g"
      },
      "execution_count": 31,
      "outputs": []
    },
    {
      "cell_type": "markdown",
      "source": [
        "Prepare test data and labels for evaluation"
      ],
      "metadata": {
        "id": "qVSZlDrvfcAH"
      }
    },
    {
      "cell_type": "code",
      "source": [
        "x_test = []\n",
        "y_test = []\n",
        "\n",
        "for i in range(100, input_data.shape[0]):\n",
        "    x_test.append(input_data[i - 100: i])\n",
        "    y_test.append(input_data[i, 0])\n",
        "\n",
        "x_test = np.array(x_test)\n",
        "y_test = np.array(y_test)"
      ],
      "metadata": {
        "id": "zLDGevyEdyyH"
      },
      "execution_count": 32,
      "outputs": []
    },
    {
      "cell_type": "markdown",
      "source": [
        "Predict the test data using the trained model"
      ],
      "metadata": {
        "id": "dQwoTN1bfmuG"
      }
    },
    {
      "cell_type": "code",
      "source": [
        "y_predicted = model.predict(x_test)"
      ],
      "metadata": {
        "colab": {
          "base_uri": "https://localhost:8080/"
        },
        "id": "gK8huZEGd1lV",
        "outputId": "8ef782bb-9979-4f6c-a63f-e219a17d5dab"
      },
      "execution_count": 33,
      "outputs": [
        {
          "output_type": "stream",
          "name": "stdout",
          "text": [
            "33/33 [==============================] - 2s 40ms/step\n"
          ]
        }
      ]
    },
    {
      "cell_type": "markdown",
      "source": [
        "Scale back the predicted and true values"
      ],
      "metadata": {
        "id": "bN4ezOjzfe8l"
      }
    },
    {
      "cell_type": "code",
      "source": [
        "scale_factor = 1/0.02099617\n",
        "y_predicted = y_predicted * scale_factor\n",
        "y_test = y_test * scale_factor"
      ],
      "metadata": {
        "id": "AvOHNm4Cd4OE"
      },
      "execution_count": 34,
      "outputs": []
    },
    {
      "cell_type": "markdown",
      "source": [
        "Prepare data for predicting future values"
      ],
      "metadata": {
        "id": "u0cTB2hmfiH-"
      }
    },
    {
      "cell_type": "code",
      "source": [
        "x_future = [input_data[-100:]]\n",
        "\n",
        "future_predictions = []"
      ],
      "metadata": {
        "id": "qwHQG7jOd7YZ"
      },
      "execution_count": 35,
      "outputs": []
    },
    {
      "cell_type": "markdown",
      "source": [
        "Predict future values"
      ],
      "metadata": {
        "id": "zsKtRS21f5wc"
      }
    },
    {
      "cell_type": "code",
      "source": [
        "for i in range(duration):\n",
        "    x_future_array = np.array(x_future)\n",
        "    x_future_array = np.reshape(x_future_array, (x_future_array.shape[0], x_future_array.shape[1], 1))\n",
        "    future_prediction = model.predict(x_future_array)\n",
        "\n",
        "    future_predictions.append(future_prediction[0, 0])\n",
        "\n",
        "    x_future[0] = np.concatenate((x_future[0][1:], future_prediction), axis=None)"
      ],
      "metadata": {
        "colab": {
          "base_uri": "https://localhost:8080/"
        },
        "id": "3jaNdI9nd-Vb",
        "outputId": "6dc4f289-413a-44dc-ef31-215d4e2e142f"
      },
      "execution_count": 36,
      "outputs": [
        {
          "output_type": "stream",
          "name": "stdout",
          "text": [
            "1/1 [==============================] - 0s 35ms/step\n",
            "1/1 [==============================] - 0s 34ms/step\n",
            "1/1 [==============================] - 0s 30ms/step\n",
            "1/1 [==============================] - 0s 31ms/step\n",
            "1/1 [==============================] - 0s 31ms/step\n",
            "1/1 [==============================] - 0s 31ms/step\n",
            "1/1 [==============================] - 0s 34ms/step\n",
            "1/1 [==============================] - 0s 32ms/step\n",
            "1/1 [==============================] - 0s 32ms/step\n",
            "1/1 [==============================] - 0s 41ms/step\n"
          ]
        }
      ]
    },
    {
      "cell_type": "markdown",
      "source": [
        "Inverse transform and prepare future time indices"
      ],
      "metadata": {
        "id": "rCqZkn0qfuBr"
      }
    },
    {
      "cell_type": "code",
      "source": [
        "future_predictions_array = np.array(future_predictions)\n",
        "\n",
        "y_future = scaler.inverse_transform(future_predictions_array.reshape(-1, 1))\n",
        "\n",
        "future_time_indices = pd.date_range(start=df[\"Date\"].iloc[-1], periods=duration, freq=\"D\")"
      ],
      "metadata": {
        "id": "3R7lGU3AeD_j"
      },
      "execution_count": 37,
      "outputs": []
    },
    {
      "cell_type": "markdown",
      "source": [
        "Plot historical and predicted prices"
      ],
      "metadata": {
        "id": "8vh1J9ihgAnv"
      }
    },
    {
      "cell_type": "code",
      "source": [
        "plt.plot(df[\"Date\"], df[\"Close\"], label='Historical', color='b')\n",
        "plt.plot(future_time_indices, y_future, label='Predicted', color='r')\n",
        "plt.xlabel('Days')\n",
        "plt.ylabel('Price')\n",
        "plt.legend()\n",
        "plt.show()"
      ],
      "metadata": {
        "colab": {
          "base_uri": "https://localhost:8080/",
          "height": 449
        },
        "id": "eahOfLeneIo2",
        "outputId": "90060a9a-2bbb-4fcb-810b-35e7b1da0cc9"
      },
      "execution_count": 38,
      "outputs": [
        {
          "output_type": "display_data",
          "data": {
            "text/plain": [
              "<Figure size 640x480 with 1 Axes>"
            ],
            "image/png": "[encoded data removed]"
          },
          "metadata": {}
        }
      ]
    }
  ],
  "metadata": {
    "colab": {
      "provenance": []
    },
    "kernelspec": {
      "display_name": "Python 3",
      "name": "python3"
    },
    "language_info": {
      "name": "python"
    }
  },
  "nbformat": 4,
  "nbformat_minor": 0
}